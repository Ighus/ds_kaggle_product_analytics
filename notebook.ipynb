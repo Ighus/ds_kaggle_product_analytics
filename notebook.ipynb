{
 "cells": [
  {
   "cell_type": "code",
   "execution_count": 10,
   "metadata": {},
   "outputs": [],
   "source": [
    "import pandas as pd\n",
    "import numpy as np\n",
    "import matplotlib.pyplot as plt\n",
    "import seaborn as sns\n",
    "import statsmodels.api as sm\n",
    "from tqdm.autonotebook import tqdm"
   ]
  },
  {
   "cell_type": "code",
   "execution_count": 2,
   "metadata": {},
   "outputs": [],
   "source": [
    "df = pd.read_csv('product.csv', sep=',')"
   ]
  },
  {
   "cell_type": "code",
   "execution_count": 3,
   "metadata": {},
   "outputs": [
    {
     "name": "stdout",
     "output_type": "stream",
     "text": [
      "<class 'pandas.core.frame.DataFrame'>\n",
      "RangeIndex: 8471220 entries, 0 to 8471219\n",
      "Data columns (total 8 columns):\n",
      " #   Column        Dtype \n",
      "---  ------        ----- \n",
      " 0   order_id      object\n",
      " 1   user_id       object\n",
      " 2   page_id       object\n",
      " 3   product       object\n",
      " 4   site_version  object\n",
      " 5   time          object\n",
      " 6   title         object\n",
      " 7   target        int64 \n",
      "dtypes: int64(1), object(7)\n",
      "memory usage: 517.0+ MB\n"
     ]
    }
   ],
   "source": [
    "df.info()"
   ]
  },
  {
   "cell_type": "code",
   "execution_count": 17,
   "metadata": {},
   "outputs": [
    {
     "data": {
      "text/html": [
       "<div>\n",
       "<style scoped>\n",
       "    .dataframe tbody tr th:only-of-type {\n",
       "        vertical-align: middle;\n",
       "    }\n",
       "\n",
       "    .dataframe tbody tr th {\n",
       "        vertical-align: top;\n",
       "    }\n",
       "\n",
       "    .dataframe thead th {\n",
       "        text-align: right;\n",
       "    }\n",
       "</style>\n",
       "<table border=\"1\" class=\"dataframe\">\n",
       "  <thead>\n",
       "    <tr style=\"text-align: right;\">\n",
       "      <th></th>\n",
       "      <th>order_id</th>\n",
       "      <th>user_id</th>\n",
       "      <th>page_id</th>\n",
       "      <th>product</th>\n",
       "      <th>site_version</th>\n",
       "      <th>time</th>\n",
       "      <th>title</th>\n",
       "      <th>target</th>\n",
       "    </tr>\n",
       "  </thead>\n",
       "  <tbody>\n",
       "    <tr>\n",
       "      <th>60</th>\n",
       "      <td>072b030ba126b2f4b2374f342be9ed44</td>\n",
       "      <td>3c59dc048e8850243be8079a5c74d079</td>\n",
       "      <td>a3d2de7675556553a5f08e4c88d2c228</td>\n",
       "      <td>sports_nutrition</td>\n",
       "      <td>desktop</td>\n",
       "      <td>2019-03-03 10:15:41</td>\n",
       "      <td>order</td>\n",
       "      <td>1</td>\n",
       "    </tr>\n",
       "    <tr>\n",
       "      <th>106</th>\n",
       "      <td>f0935e4cd5920aa6c7c996a5ee53a70f</td>\n",
       "      <td>1c383cd30b7c298ab50293adfecb7b18</td>\n",
       "      <td>a3d2de7675556553a5f08e4c88d2c228</td>\n",
       "      <td>sneakers</td>\n",
       "      <td>desktop</td>\n",
       "      <td>2019-02-08 21:16:48</td>\n",
       "      <td>order</td>\n",
       "      <td>1</td>\n",
       "    </tr>\n",
       "    <tr>\n",
       "      <th>107</th>\n",
       "      <td>a97da629b098b75c294dffdc3e463904</td>\n",
       "      <td>1c383cd30b7c298ab50293adfecb7b18</td>\n",
       "      <td>a3d2de7675556553a5f08e4c88d2c228</td>\n",
       "      <td>clothes</td>\n",
       "      <td>desktop</td>\n",
       "      <td>2019-02-10 19:12:07</td>\n",
       "      <td>order</td>\n",
       "      <td>1</td>\n",
       "    </tr>\n",
       "    <tr>\n",
       "      <th>165</th>\n",
       "      <td>9766527f2b5d3e95d4a733fcfb77bd7e</td>\n",
       "      <td>d82c8d1619ad8176d665453cfb2e55f0</td>\n",
       "      <td>a3d2de7675556553a5f08e4c88d2c228</td>\n",
       "      <td>sports_nutrition</td>\n",
       "      <td>mobile</td>\n",
       "      <td>2019-02-06 10:32:36</td>\n",
       "      <td>order</td>\n",
       "      <td>1</td>\n",
       "    </tr>\n",
       "    <tr>\n",
       "      <th>179</th>\n",
       "      <td>8f53295a73878494e9bc8dd6c3c7104f</td>\n",
       "      <td>b53b3a3d6ab90ce0268229151c9bde11</td>\n",
       "      <td>a3d2de7675556553a5f08e4c88d2c228</td>\n",
       "      <td>accessories</td>\n",
       "      <td>mobile</td>\n",
       "      <td>2019-02-10 19:18:02</td>\n",
       "      <td>order</td>\n",
       "      <td>1</td>\n",
       "    </tr>\n",
       "    <tr>\n",
       "      <th>...</th>\n",
       "      <td>...</td>\n",
       "      <td>...</td>\n",
       "      <td>...</td>\n",
       "      <td>...</td>\n",
       "      <td>...</td>\n",
       "      <td>...</td>\n",
       "      <td>...</td>\n",
       "      <td>...</td>\n",
       "    </tr>\n",
       "    <tr>\n",
       "      <th>8471063</th>\n",
       "      <td>a7e2db797a33b641dc127d7063d9c717</td>\n",
       "      <td>89b226820e70d47c49ef30e9a7c39629</td>\n",
       "      <td>a3d2de7675556553a5f08e4c88d2c228</td>\n",
       "      <td>clothes</td>\n",
       "      <td>desktop</td>\n",
       "      <td>2019-05-29 03:53:48</td>\n",
       "      <td>order</td>\n",
       "      <td>1</td>\n",
       "    </tr>\n",
       "    <tr>\n",
       "      <th>8471065</th>\n",
       "      <td>39313b2f0b206dc8cbdbd0fa6e5cab61</td>\n",
       "      <td>8f515792f85addb3a97a7a1032297995</td>\n",
       "      <td>a3d2de7675556553a5f08e4c88d2c228</td>\n",
       "      <td>clothes</td>\n",
       "      <td>desktop</td>\n",
       "      <td>2019-05-14 22:33:58</td>\n",
       "      <td>order</td>\n",
       "      <td>1</td>\n",
       "    </tr>\n",
       "    <tr>\n",
       "      <th>8471089</th>\n",
       "      <td>5f3aea7c67cf1db7f1b13bc07731e203</td>\n",
       "      <td>7ed2eed2fec03a2c2a3c6aaf003bade1</td>\n",
       "      <td>a3d2de7675556553a5f08e4c88d2c228</td>\n",
       "      <td>accessories</td>\n",
       "      <td>desktop</td>\n",
       "      <td>2019-05-10 17:22:11</td>\n",
       "      <td>order</td>\n",
       "      <td>1</td>\n",
       "    </tr>\n",
       "    <tr>\n",
       "      <th>8471122</th>\n",
       "      <td>dfeeb5439d8157291f6af857ef6c90e6</td>\n",
       "      <td>f5cfcb37b777d87b239857e828bd8e4a</td>\n",
       "      <td>a3d2de7675556553a5f08e4c88d2c228</td>\n",
       "      <td>clothes</td>\n",
       "      <td>mobile</td>\n",
       "      <td>2019-05-11 23:48:35</td>\n",
       "      <td>order</td>\n",
       "      <td>1</td>\n",
       "    </tr>\n",
       "    <tr>\n",
       "      <th>8471153</th>\n",
       "      <td>1b1f18046c88d0baaa4b2a3d55146e2c</td>\n",
       "      <td>42afed937c4988cfcbb9acaad47c9387</td>\n",
       "      <td>a3d2de7675556553a5f08e4c88d2c228</td>\n",
       "      <td>clothes</td>\n",
       "      <td>desktop</td>\n",
       "      <td>2019-05-26 22:21:17</td>\n",
       "      <td>order</td>\n",
       "      <td>1</td>\n",
       "    </tr>\n",
       "  </tbody>\n",
       "</table>\n",
       "<p>248722 rows × 8 columns</p>\n",
       "</div>"
      ],
      "text/plain": [
       "                                 order_id                           user_id  \\\n",
       "60       072b030ba126b2f4b2374f342be9ed44  3c59dc048e8850243be8079a5c74d079   \n",
       "106      f0935e4cd5920aa6c7c996a5ee53a70f  1c383cd30b7c298ab50293adfecb7b18   \n",
       "107      a97da629b098b75c294dffdc3e463904  1c383cd30b7c298ab50293adfecb7b18   \n",
       "165      9766527f2b5d3e95d4a733fcfb77bd7e  d82c8d1619ad8176d665453cfb2e55f0   \n",
       "179      8f53295a73878494e9bc8dd6c3c7104f  b53b3a3d6ab90ce0268229151c9bde11   \n",
       "...                                   ...                               ...   \n",
       "8471063  a7e2db797a33b641dc127d7063d9c717  89b226820e70d47c49ef30e9a7c39629   \n",
       "8471065  39313b2f0b206dc8cbdbd0fa6e5cab61  8f515792f85addb3a97a7a1032297995   \n",
       "8471089  5f3aea7c67cf1db7f1b13bc07731e203  7ed2eed2fec03a2c2a3c6aaf003bade1   \n",
       "8471122  dfeeb5439d8157291f6af857ef6c90e6  f5cfcb37b777d87b239857e828bd8e4a   \n",
       "8471153  1b1f18046c88d0baaa4b2a3d55146e2c  42afed937c4988cfcbb9acaad47c9387   \n",
       "\n",
       "                                  page_id           product site_version  \\\n",
       "60       a3d2de7675556553a5f08e4c88d2c228  sports_nutrition      desktop   \n",
       "106      a3d2de7675556553a5f08e4c88d2c228          sneakers      desktop   \n",
       "107      a3d2de7675556553a5f08e4c88d2c228           clothes      desktop   \n",
       "165      a3d2de7675556553a5f08e4c88d2c228  sports_nutrition       mobile   \n",
       "179      a3d2de7675556553a5f08e4c88d2c228       accessories       mobile   \n",
       "...                                   ...               ...          ...   \n",
       "8471063  a3d2de7675556553a5f08e4c88d2c228           clothes      desktop   \n",
       "8471065  a3d2de7675556553a5f08e4c88d2c228           clothes      desktop   \n",
       "8471089  a3d2de7675556553a5f08e4c88d2c228       accessories      desktop   \n",
       "8471122  a3d2de7675556553a5f08e4c88d2c228           clothes       mobile   \n",
       "8471153  a3d2de7675556553a5f08e4c88d2c228           clothes      desktop   \n",
       "\n",
       "                        time  title  target  \n",
       "60       2019-03-03 10:15:41  order       1  \n",
       "106      2019-02-08 21:16:48  order       1  \n",
       "107      2019-02-10 19:12:07  order       1  \n",
       "165      2019-02-06 10:32:36  order       1  \n",
       "179      2019-02-10 19:18:02  order       1  \n",
       "...                      ...    ...     ...  \n",
       "8471063  2019-05-29 03:53:48  order       1  \n",
       "8471065  2019-05-14 22:33:58  order       1  \n",
       "8471089  2019-05-10 17:22:11  order       1  \n",
       "8471122  2019-05-11 23:48:35  order       1  \n",
       "8471153  2019-05-26 22:21:17  order       1  \n",
       "\n",
       "[248722 rows x 8 columns]"
      ]
     },
     "execution_count": 17,
     "metadata": {},
     "output_type": "execute_result"
    }
   ],
   "source": [
    "df.loc[df.title == 'order']"
   ]
  },
  {
   "cell_type": "code",
   "execution_count": 5,
   "metadata": {},
   "outputs": [
    {
     "data": {
      "text/html": [
       "<div>\n",
       "<style scoped>\n",
       "    .dataframe tbody tr th:only-of-type {\n",
       "        vertical-align: middle;\n",
       "    }\n",
       "\n",
       "    .dataframe tbody tr th {\n",
       "        vertical-align: top;\n",
       "    }\n",
       "\n",
       "    .dataframe thead th {\n",
       "        text-align: right;\n",
       "    }\n",
       "</style>\n",
       "<table border=\"1\" class=\"dataframe\">\n",
       "  <thead>\n",
       "    <tr style=\"text-align: right;\">\n",
       "      <th></th>\n",
       "      <th>user_id</th>\n",
       "    </tr>\n",
       "    <tr>\n",
       "      <th>site_version</th>\n",
       "      <th></th>\n",
       "    </tr>\n",
       "  </thead>\n",
       "  <tbody>\n",
       "    <tr>\n",
       "      <th>desktop</th>\n",
       "      <td>2382885</td>\n",
       "    </tr>\n",
       "    <tr>\n",
       "      <th>mobile</th>\n",
       "      <td>6088335</td>\n",
       "    </tr>\n",
       "  </tbody>\n",
       "</table>\n",
       "</div>"
      ],
      "text/plain": [
       "              user_id\n",
       "site_version         \n",
       "desktop       2382885\n",
       "mobile        6088335"
      ]
     },
     "execution_count": 5,
     "metadata": {},
     "output_type": "execute_result"
    }
   ],
   "source": [
    "df.groupby('site_version')[['user_id']].count()"
   ]
  },
  {
   "cell_type": "code",
   "execution_count": 19,
   "metadata": {},
   "outputs": [
    {
     "name": "stdout",
     "output_type": "stream",
     "text": [
      "Existe 1963934 usuários que apareceram mais de uma vez no dataset\n"
     ]
    }
   ],
   "source": [
    "contagem_usuarios = df.user_id.value_counts(ascending=False)\n",
    "multiplo_usuario = contagem_usuarios[contagem_usuarios > 1].count()\n",
    "\n",
    "print(f\"Existe {multiplo_usuario} usuários que apareceram mais de uma vez no dataset\")"
   ]
  },
  {
   "cell_type": "markdown",
   "metadata": {},
   "source": [
    "Dropando os usuários que aparecem repetidos para não enviesarem e evitar a contagem do mesmo usuário mais de uma vez"
   ]
  },
  {
   "cell_type": "code",
   "execution_count": 21,
   "metadata": {},
   "outputs": [],
   "source": [
    "drop_usuarios = contagem_usuarios[contagem_usuarios > 1].index\n",
    "\n",
    "df = df[~df[\"user_id\"].isin(drop_usuarios)]"
   ]
  },
  {
   "cell_type": "markdown",
   "metadata": {},
   "source": [
    "Selecionando as versão mobile para análise"
   ]
  },
  {
   "cell_type": "code",
   "execution_count": null,
   "metadata": {},
   "outputs": [],
   "source": [
    "amostra_mobile = df[df['site_version'] == 'mobile']"
   ]
  },
  {
   "cell_type": "code",
   "execution_count": null,
   "metadata": {},
   "outputs": [],
   "source": []
  },
  {
   "cell_type": "code",
   "execution_count": null,
   "metadata": {},
   "outputs": [],
   "source": []
  },
  {
   "cell_type": "code",
   "execution_count": null,
   "metadata": {},
   "outputs": [],
   "source": []
  },
  {
   "cell_type": "code",
   "execution_count": 18,
   "metadata": {},
   "outputs": [
    {
     "data": {
      "text/plain": [
       "array([0, 1])"
      ]
     },
     "metadata": {},
     "output_type": "display_data"
    },
    {
     "data": {
      "text/plain": [
       "array(['desktop', 'mobile'], dtype=object)"
      ]
     },
     "metadata": {},
     "output_type": "display_data"
    },
    {
     "data": {
      "text/plain": [
       "array(['sneakers', 'sports_nutrition', 'company', 'accessories',\n",
       "       'clothes'], dtype=object)"
      ]
     },
     "metadata": {},
     "output_type": "display_data"
    }
   ],
   "source": [
    "display(df.target.unique(), df.site_version.unique(),\n",
    "        df['product'].unique())\n",
    "        "
   ]
  },
  {
   "cell_type": "markdown",
   "metadata": {},
   "source": [
    "### Pegando a media dos dados do campo de verão do site pelo target"
   ]
  },
  {
   "cell_type": "code",
   "execution_count": 7,
   "metadata": {},
   "outputs": [
    {
     "data": {
      "text/plain": [
       "site_version\n",
       "desktop    0.055891\n",
       "mobile     0.018977\n",
       "Name: target, dtype: float64"
      ]
     },
     "execution_count": 7,
     "metadata": {},
     "output_type": "execute_result"
    }
   ],
   "source": [
    "df.groupby('site_version').target.mean()"
   ]
  },
  {
   "cell_type": "code",
   "execution_count": 11,
   "metadata": {},
   "outputs": [
    {
     "name": "stderr",
     "output_type": "stream",
     "text": []
    },
    {
     "data": {
      "text/plain": [
       "<AxesSubplot:ylabel='Density'>"
      ]
     },
     "execution_count": 11,
     "metadata": {},
     "output_type": "execute_result"
    },
    {
     "data": {
      "image/png": "[encoded data removed]",
      "text/plain": [
       "<Figure size 432x288 with 1 Axes>"
      ]
     },
     "metadata": {
      "needs_background": "light"
     },
     "output_type": "display_data"
    }
   ],
   "source": [
    "boot = []\n",
    "for i in tqdm(range(100), leave=False):\n",
    "  boot_mean = df.sample(frac=1, replace=True).groupby('site_version').target.mean()\n",
    "  boot.append(boot_mean)\n",
    "\n",
    "boot = pd.DataFrame(boot)\n",
    "\n",
    "boot.plot.kde()"
   ]
  },
  {
   "cell_type": "code",
   "execution_count": null,
   "metadata": {},
   "outputs": [],
   "source": []
  },
  {
   "cell_type": "code",
   "execution_count": null,
   "metadata": {},
   "outputs": [],
   "source": []
  },
  {
   "cell_type": "code",
   "execution_count": null,
   "metadata": {},
   "outputs": [],
   "source": []
  },
  {
   "cell_type": "code",
   "execution_count": null,
   "metadata": {},
   "outputs": [],
   "source": []
  }
 ],
 "metadata": {
  "interpreter": {
   "hash": "aee8b7b246df8f9039afb4144a1f6fd8d2ca17a180786b69acc140d282b71a49"
  },
  "kernelspec": {
   "display_name": "Python 3.10.0 64-bit",
   "language": "python",
   "name": "python3"
  },
  "language_info": {
   "codemirror_mode": {
    "name": "ipython",
    "version": 3
   },
   "file_extension": ".py",
   "mimetype": "text/x-python",
   "name": "python",
   "nbconvert_exporter": "python",
   "pygments_lexer": "ipython3",
   "version": "3.10.0"
  },
  "orig_nbformat": 4
 },
 "nbformat": 4,
 "nbformat_minor": 2
}
